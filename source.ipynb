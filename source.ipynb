{
 "cells": [
  {
   "cell_type": "code",
   "execution_count": 91,
   "metadata": {},
   "outputs": [],
   "source": [
    "#Read Input & Assign Variables\n",
    "import time\n",
    "start_time = time.time()\n",
    "import csv\n",
    "import math\n",
    "with open('toy_testcase.csv', newline='') as input:\n",
    "    data = tuple(csv.reader(input))\n",
    "\n",
    "M = int(data[0][0])\n",
    "N = int(data[0][1])\n",
    "K = int(data[1][0])\n",
    "alpha = int(data[2][0])\n",
    "\n",
    "init_speed = ()\n",
    "data_size = ()\n",
    "factor = ()\n",
    "\n",
    "for i in range (3,3+K):\n",
    "    init_speed = (*init_speed, int(data[i][1]))\n",
    "    data_size = (*data_size, int(data[i][2]))\n",
    "    factor = (*factor, int(data[i][3]))\n",
    "total_data = sum(list(data_size))\n",
    "data_remaining = list(data_size)\n",
    "\n",
    "\n",
    "#Global Variables for Output\n",
    "grid = [[0]*M]*N\n",
    "avg_speed = [[0]*2]*K\n",
    "data_loss = [0]*K\n",
    "penalty_term = 0\n",
    "obj_function = 0\n",
    "score = 0\n",
    "execution_time = 0\n"
   ]
  },
  {
   "cell_type": "code",
   "execution_count": 92,
   "metadata": {},
   "outputs": [],
   "source": [
    "with open('speed_to_data_map.csv', newline='') as mapping:\n",
    "    speed_map = tuple(csv.reader(mapping))\n",
    "    \n",
    "speed_data_map = []\n",
    "for i in range (0,len(speed_map)):\n",
    "    speed_data_map = (*speed_data_map, int(speed_map[i][1]))\n"
   ]
  },
  {
   "cell_type": "code",
   "execution_count": 93,
   "metadata": {},
   "outputs": [],
   "source": [
    "def size_index(data):\n",
    "    index_map = []\n",
    "    for i in range (0,K):\n",
    "        max_index = data.index(max(data))\n",
    "        index_map.append(max_index)\n",
    "        data[max_index] = -1\n",
    "    return index_map"
   ]
  },
  {
   "cell_type": "code",
   "execution_count": 94,
   "metadata": {},
   "outputs": [],
   "source": [
    "def target_factor(index_map,users,flag):\n",
    "    sent_data = 0\n",
    "    collocated_factor_list = [0]*M\n",
    "    for i in range (0,users):\n",
    "        collocated_factor_list[i] = factor[index_map[i]-1]/100\n",
    "    \n",
    "    for i in range (0,users):\n",
    "        collocated_factor = collocated_factor_list[i] * sum((collocated_factor_list[:i]+collocated_factor_list[i+1:]))\n",
    "        speed = init_speed[index_map[i]-1] * (1-collocated_factor)\n",
    "        speed_floor = math.floor(speed + 10e-6)\n",
    "        sent_data = sent_data + speed_data_map[speed_floor]\n",
    "        if flag == 1:\n",
    "            data_remaining[index_map[i]-1] = data_remaining[index_map[i]-1] - speed_data_map[speed_floor]\n",
    "            if (data_remaining[index_map[i]-1] < 0):\n",
    "                data_remaining[index_map[i]-1] = 0\n",
    "            avg_speed[index_map[i]-1][0] = ((avg_speed[index_map[i]-1][0])*avg_speed[index_map[i]-1][1] + speed)/((avg_speed[index_map[i]-1][1])+1)\n",
    "            avg_speed[index_map[i]-1][1] = avg_speed[index_map[i]-1][1] + 1\n",
    "            print(\"avg_speed: \", avg_speed)\n",
    "\n",
    "    target_curr = (math.floor((sent_data/total_data)*100))\n",
    "    return target_curr\n"
   ]
  },
  {
   "cell_type": "code",
   "execution_count": 95,
   "metadata": {},
   "outputs": [],
   "source": [
    "def write():\n",
    "    print(grid)\n",
    "    print(avg_speed)\n",
    "    print(data_loss)"
   ]
  },
  {
   "cell_type": "code",
   "execution_count": 96,
   "metadata": {},
   "outputs": [
    {
     "name": "stdout",
     "output_type": "stream",
     "text": [
      "avg_speed:  [[15.2, 1], [15.2, 1], [15.2, 1], [15.2, 1]]\n",
      "avg_speed:  [[17.48, 2], [17.48, 2], [17.48, 2], [17.48, 2]]\n",
      "avg_speed:  [[17.653333333333332, 3], [17.653333333333332, 3], [17.653333333333332, 3], [17.653333333333332, 3]]\n",
      "avg_speed:  [[16.615, 4], [16.615, 4], [16.615, 4], [16.615, 4]]\n",
      "avg_speed:  [[16.892, 5], [16.892, 5], [16.892, 5], [16.892, 5]]\n",
      "avg_speed:  [[16.326666666666664, 6], [16.326666666666664, 6], [16.326666666666664, 6], [16.326666666666664, 6]]\n",
      "avg_speed:  [[16.508571428571425, 7], [16.508571428571425, 7], [16.508571428571425, 7], [16.508571428571425, 7]]\n",
      "avg_speed:  [[16.644999999999996, 8], [16.644999999999996, 8], [16.644999999999996, 8], [16.644999999999996, 8]]\n",
      "avg_speed:  [[17.251111111111108, 9], [17.251111111111108, 9], [17.251111111111108, 9], [17.251111111111108, 9]]\n",
      "avg_speed:  [[16.800999999999995, 10], [16.800999999999995, 10], [16.800999999999995, 10], [16.800999999999995, 10]]\n",
      "[[4, 3, 0], [4, 2, 0], [4, 2, 0], [4, 1, 0], [3, 2, 0]]\n",
      "[[16.800999999999995, 10], [16.800999999999995, 10], [16.800999999999995, 10], [16.800999999999995, 10]]\n",
      "[0, 0, 0, 0]\n"
     ]
    }
   ],
   "source": [
    "target_ideal = 100/N\n",
    "for i in range (0,N):       #Columns \n",
    "    user_index_map = [0]*M\n",
    "    index_map_temp = [0]*M\n",
    "    data_temp = data_remaining.copy()\n",
    "    size_index_map = size_index(data_temp)         #shows the index of largest and the subsequent largest data_size \n",
    "    margin = 100\n",
    "    for j in range (0,M):\n",
    "        index_map_temp[j] = size_index_map[j]+1  \n",
    "        target_curr = target_factor(index_map_temp,j+1,0)\n",
    "        if abs(target_curr-target_ideal) > margin:\n",
    "            target_factor(user_index_map,j,1)\n",
    "            grid[i] = user_index_map.copy()\n",
    "            break\n",
    "        else:\n",
    "            margin = abs(target_curr - target_ideal)\n",
    "            user_index_map = index_map_temp.copy()\n",
    "    \n",
    "execution_time = time.time() - start_time\n",
    "data_loss = data_remaining.copy()\n",
    "write()\n",
    "        "
   ]
  },
  {
   "cell_type": "code",
   "execution_count": null,
   "metadata": {},
   "outputs": [],
   "source": [
    "\n",
    "    \n"
   ]
  }
 ],
 "metadata": {
  "kernelspec": {
   "display_name": "Python 3.10.5 64-bit",
   "language": "python",
   "name": "python3"
  },
  "language_info": {
   "codemirror_mode": {
    "name": "ipython",
    "version": 3
   },
   "file_extension": ".py",
   "mimetype": "text/x-python",
   "name": "python",
   "nbconvert_exporter": "python",
   "pygments_lexer": "ipython3",
   "version": "3.10.5"
  },
  "orig_nbformat": 4,
  "vscode": {
   "interpreter": {
    "hash": "ec83213aa7c28312cf8383557463965c328267b12d1c7603ce784525139666f2"
   }
  }
 },
 "nbformat": 4,
 "nbformat_minor": 2
}
