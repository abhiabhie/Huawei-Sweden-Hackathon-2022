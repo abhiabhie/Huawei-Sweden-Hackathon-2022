{
 "cells": [
  {
   "cell_type": "code",
   "execution_count": 114,
   "metadata": {},
   "outputs": [
    {
     "name": "stdout",
     "output_type": "stream",
     "text": [
      "(30, 25, 60, 40)\n"
     ]
    }
   ],
   "source": [
    "#Read Input & Assign Variables\n",
    "import csv\n",
    "with open('toy_testcase.csv', newline='') as input:\n",
    "    data = tuple(csv.reader(input))\n",
    "\n",
    "M = int(data[0][0])\n",
    "N = int(data[0][1])\n",
    "K = int(data[1][0])\n",
    "alpha = int(data[2][0])\n",
    "\n",
    "init_speed = ()\n",
    "data_size = ()\n",
    "factor = ()\n",
    "\n",
    "for i in range (3,3+K):\n",
    "    init_speed = (*init_speed, int(data[i][1]))\n",
    "    data_size = (*data_size, int(data[i][2]))\n",
    "    factor = (*factor, int(data[i][3]))\n",
    "print(factor)\n",
    "total_data = sum(list(data_size))\n",
    "data_remaining = list(data_size)"
   ]
  },
  {
   "cell_type": "code",
   "execution_count": 115,
   "metadata": {},
   "outputs": [],
   "source": [
    "with open('speed_to_data_map.csv', newline='') as mapping:\n",
    "    speed_map = tuple(csv.reader(mapping))\n",
    "    \n",
    "speed = []\n",
    "for i in range (0,len(speed_map)):\n",
    "    speed = (*speed, int(speed_map[i][1]))\n"
   ]
  },
  {
   "cell_type": "code",
   "execution_count": 116,
   "metadata": {},
   "outputs": [],
   "source": [
    "def size_index(data):\n",
    "    index_map = []\n",
    "    for i in range (0,K):\n",
    "        max_index = data.index(max(data))\n",
    "        index_map.append(max_index)\n",
    "        data[max_index] = -1\n",
    "    return index_map"
   ]
  },
  {
   "cell_type": "code",
   "execution_count": 117,
   "metadata": {},
   "outputs": [],
   "source": [
    "def target_factor(grid_map,users):\n",
    "    current_factor = 0\n",
    "    collocated_factor_list = [0]*M\n",
    "    for i in range (0,users):\n",
    "        collocated_factor_list[i] = factor[grid_map[i]-1]/100\n",
    "    \n",
    "    for i in range (0,users):\n",
    "        collocated_factor = collocated_factor_list[i] * sum((collocated_factor_list[:i]+collocated_factor_list[i+1:]))\n",
    "\n",
    "    return current_factor"
   ]
  },
  {
   "cell_type": "code",
   "execution_count": 118,
   "metadata": {},
   "outputs": [
    {
     "name": "stdout",
     "output_type": "stream",
     "text": [
      "0.0\n",
      "0.24\n",
      "0.24\n",
      "0.34\n",
      "0.39\n",
      "0.25\n",
      "0.0\n",
      "0.09\n",
      "0.09\n",
      "0.18\n",
      "0.18\n",
      "0.18\n",
      "0.0\n",
      "0.09\n",
      "0.09\n",
      "0.18\n",
      "0.18\n",
      "0.18\n",
      "0.0\n",
      "0.09\n",
      "0.09\n",
      "0.18\n",
      "0.18\n",
      "0.18\n",
      "0.0\n",
      "0.09\n",
      "0.09\n",
      "0.18\n",
      "0.18\n",
      "0.18\n"
     ]
    }
   ],
   "source": [
    "target_ideal = 100/N\n",
    "grid_map_vertical = [0]*M\n",
    "\n",
    "for i in range (0,N):       #Columns\n",
    "    size_index_map = size_index(data_remaining)         #shows the index of largest and the subsequent largest data_size\n",
    "    for j in range (0,M):\n",
    "        grid_map_vertical[j] = size_index_map[j]+1\n",
    "        target_curr = target_factor(grid_map_vertical,j+1) \n",
    "        "
   ]
  }
 ],
 "metadata": {
  "kernelspec": {
   "display_name": "Python 3.10.5 64-bit",
   "language": "python",
   "name": "python3"
  },
  "language_info": {
   "codemirror_mode": {
    "name": "ipython",
    "version": 3
   },
   "file_extension": ".py",
   "mimetype": "text/x-python",
   "name": "python",
   "nbconvert_exporter": "python",
   "pygments_lexer": "ipython3",
   "version": "3.10.5"
  },
  "orig_nbformat": 4,
  "vscode": {
   "interpreter": {
    "hash": "ec83213aa7c28312cf8383557463965c328267b12d1c7603ce784525139666f2"
   }
  }
 },
 "nbformat": 4,
 "nbformat_minor": 2
}
