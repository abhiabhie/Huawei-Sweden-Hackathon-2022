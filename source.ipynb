{
 "cells": [
  {
   "cell_type": "code",
   "execution_count": 325,
   "metadata": {},
   "outputs": [
    {
     "ename": "FileNotFoundError",
     "evalue": "[Errno 2] No such file or directory: 'tc1.csv'",
     "output_type": "error",
     "traceback": [
      "\u001b[1;31m---------------------------------------------------------------------------\u001b[0m",
      "\u001b[1;31mFileNotFoundError\u001b[0m                         Traceback (most recent call last)",
      "\u001b[1;32md:\\Huawei\\team22-heffaklumparna\\source.ipynb Cell 1\u001b[0m in \u001b[0;36m<cell line: 4>\u001b[1;34m()\u001b[0m\n\u001b[0;32m      <a href='vscode-notebook-cell:/d%3A/Huawei/team22-heffaklumparna/source.ipynb#W0sZmlsZQ%3D%3D?line=1'>2</a>\u001b[0m \u001b[39mimport\u001b[39;00m \u001b[39mcsv\u001b[39;00m\n\u001b[0;32m      <a href='vscode-notebook-cell:/d%3A/Huawei/team22-heffaklumparna/source.ipynb#W0sZmlsZQ%3D%3D?line=2'>3</a>\u001b[0m \u001b[39mimport\u001b[39;00m \u001b[39mmath\u001b[39;00m\n\u001b[1;32m----> <a href='vscode-notebook-cell:/d%3A/Huawei/team22-heffaklumparna/source.ipynb#W0sZmlsZQ%3D%3D?line=3'>4</a>\u001b[0m \u001b[39mwith\u001b[39;00m \u001b[39mopen\u001b[39;49m(\u001b[39m'\u001b[39;49m\u001b[39mtc1.csv\u001b[39;49m\u001b[39m'\u001b[39;49m, newline\u001b[39m=\u001b[39;49m\u001b[39m'\u001b[39;49m\u001b[39m'\u001b[39;49m) \u001b[39mas\u001b[39;00m \u001b[39minput\u001b[39m:\n\u001b[0;32m      <a href='vscode-notebook-cell:/d%3A/Huawei/team22-heffaklumparna/source.ipynb#W0sZmlsZQ%3D%3D?line=4'>5</a>\u001b[0m     data \u001b[39m=\u001b[39m \u001b[39mtuple\u001b[39m(csv\u001b[39m.\u001b[39mreader(\u001b[39minput\u001b[39m))\n\u001b[0;32m      <a href='vscode-notebook-cell:/d%3A/Huawei/team22-heffaklumparna/source.ipynb#W0sZmlsZQ%3D%3D?line=6'>7</a>\u001b[0m M \u001b[39m=\u001b[39m \u001b[39mint\u001b[39m(data[\u001b[39m0\u001b[39m][\u001b[39m0\u001b[39m])\n",
      "\u001b[1;31mFileNotFoundError\u001b[0m: [Errno 2] No such file or directory: 'tc1.csv'"
     ]
    }
   ],
   "source": [
    "#Read Input & Assign Variables\n",
    "import csv\n",
    "import math\n",
    "with open('tc1.csv', newline='') as input:\n",
    "    data = tuple(csv.reader(input))\n",
    "\n",
    "M = int(data[0][0])\n",
    "N = int(data[0][1])\n",
    "K = int(data[1][0])\n",
    "alpha = int(data[2][0])\n",
    "print(M)\n",
    "print(N)\n",
    "\n",
    "init_speed = ()\n",
    "data_size = ()\n",
    "factor = ()\n",
    "\n",
    "for i in range (3,3+K):\n",
    "    init_speed = (*init_speed, int(data[i][1]))\n",
    "    data_size = (*data_size, int(data[i][2]))\n",
    "    factor = (*factor, int(data[i][3]))\n",
    "total_data = sum(list(data_size))\n",
    "data_remaining = list(data_size)"
   ]
  },
  {
   "cell_type": "code",
   "execution_count": null,
   "metadata": {},
   "outputs": [],
   "source": [
    "with open('speed_to_data_map.csv', newline='') as mapping:\n",
    "    speed_map = tuple(csv.reader(mapping))\n",
    "    \n",
    "speed_data_map = []\n",
    "for i in range (0,len(speed_map)):\n",
    "    speed_data_map = (*speed_data_map, int(speed_map[i][1]))\n"
   ]
  },
  {
   "cell_type": "code",
   "execution_count": null,
   "metadata": {},
   "outputs": [],
   "source": [
    "def size_index(data):\n",
    "    index_map = []\n",
    "    for i in range (0,K):\n",
    "        max_index = data.index(max(data))\n",
    "        index_map.append(max_index)\n",
    "        data[max_index] = -1\n",
    "    return index_map"
   ]
  },
  {
   "cell_type": "code",
   "execution_count": null,
   "metadata": {},
   "outputs": [],
   "source": [
    "def target_factor(index_map,users,flag):\n",
    "    sent_data = 0\n",
    "    collocated_factor_list = [0]*M\n",
    "    for i in range (0,users):\n",
    "        collocated_factor_list[i] = factor[index_map[i]-1]/100\n",
    "    \n",
    "    for i in range (0,users):\n",
    "        collocated_factor = collocated_factor_list[i] * sum((collocated_factor_list[:i]+collocated_factor_list[i+1:]))\n",
    "        speed = init_speed[index_map[i]-1] * (1-collocated_factor)\n",
    "        speed = math.floor(speed + 10e-6)\n",
    "        sent_data = sent_data + speed_data_map[speed]\n",
    "        if flag == 1:\n",
    "            data_remaining[index_map[i]-1] = data_remaining[index_map[i]-1] - speed_data_map[speed]\n",
    "            if (data_remaining[index_map[i]-1] < 0):\n",
    "                data_remaining[index_map[i]-1] = 0\n",
    "\n",
    "    target_current = (math.floor((sent_data/total_data)*100))\n",
    "    return target_current"
   ]
  },
  {
   "cell_type": "code",
   "execution_count": null,
   "metadata": {},
   "outputs": [
    {
     "name": "stdout",
     "output_type": "stream",
     "text": [
      "[26000, 26244, 1504, 4585, 252, 525, 2328, 1630, 2562, 741, 1108, 1310, 2345, 1705, 540, 450, 2695, 213, 2026, 2567, 1937, 1656, 253, 1680, 1963, 2275, 1406, 2141, 3620, 540, 1317, 4074, 994, 2140, 1630, 212, 640, 1347, 259, 442, 1560, 229, 542, 652, 2113, 352, 2471, 254, 956, 2447, 457, 3104, 1920, 2514, 245, 2114, 1573, 1016, 2740, 3240, 1197, 1133, 418, 2927, 222, 3445, 459, 212, 945, 2179, 2252, 3857, 245, 1506, 2020, 1550, 1040, 542, 1827, 1582]\n",
      "[1114, 1358, 1504, 0, 252, 525, 0, 1630, 0, 741, 1108, 1310, 0, 1705, 540, 450, 0, 213, 0, 0, 0, 1656, 253, 1680, 0, 0, 1406, 0, 0, 540, 1317, 0, 994, 251, 1630, 212, 640, 1347, 259, 442, 1560, 229, 542, 652, 0, 352, 0, 254, 956, 0, 457, 0, 0, 0, 245, 0, 1573, 1016, 0, 0, 1197, 1133, 418, 0, 222, 0, 459, 212, 945, 0, 0, 0, 245, 1506, 0, 1550, 1040, 542, 0, 1582]\n"
     ]
    }
   ],
   "source": [
    "target_ideal = 100/N\n",
    "user_index_map_d = [0]*M\n",
    "user_index_map_q = [0]*M\n",
    "print(data_remaining)\n",
    "for i in range (0,N):       #Columns\n",
    "    \n",
    "    data_temp = data_remaining.copy()\n",
    "    size_index_map = size_index(data_temp)         #shows the index of largest and the subsequent largest data_size \n",
    "    margin = 100\n",
    "    for j in range (0,M):\n",
    "        user_index_map_d[j] = size_index_map[j]+1       \n",
    "        target_curr = target_factor(user_index_map_d,j+1,0)\n",
    "        if abs(target_curr-target_ideal) > margin:\n",
    "            target_factor(user_index_map_q,j,1)\n",
    "            break\n",
    "        else:\n",
    "            user_index_map_q = user_index_map_d.copy()\n",
    "            margin = abs(target_curr-target_ideal)\n",
    "\n",
    "\n",
    "print(data_remaining)\n",
    "            \n",
    "\n",
    "        "
   ]
  }
 ],
 "metadata": {
  "kernelspec": {
   "display_name": "Python 3.10.5 64-bit",
   "language": "python",
   "name": "python3"
  },
  "language_info": {
   "codemirror_mode": {
    "name": "ipython",
    "version": 3
   },
   "file_extension": ".py",
   "mimetype": "text/x-python",
   "name": "python",
   "nbconvert_exporter": "python",
   "pygments_lexer": "ipython3",
   "version": "3.10.5"
  },
  "orig_nbformat": 4,
  "vscode": {
   "interpreter": {
    "hash": "ec83213aa7c28312cf8383557463965c328267b12d1c7603ce784525139666f2"
   }
  }
 },
 "nbformat": 4,
 "nbformat_minor": 2
}
