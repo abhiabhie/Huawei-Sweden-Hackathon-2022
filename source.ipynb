{
 "cells": [
  {
   "cell_type": "code",
   "execution_count": 300,
   "metadata": {},
   "outputs": [
    {
     "name": "stdout",
     "output_type": "stream",
     "text": [
      "(30, 25, 60, 40)\n"
     ]
    }
   ],
   "source": [
    "#Read Input & Assign Variables\n",
    "import csv\n",
    "import math\n",
    "with open('toy_testcase.csv', newline='') as input:\n",
    "    data = tuple(csv.reader(input))\n",
    "\n",
    "M = int(data[0][0])\n",
    "N = int(data[0][1])\n",
    "K = int(data[1][0])\n",
    "alpha = int(data[2][0])\n",
    "\n",
    "init_speed = ()\n",
    "data_size = ()\n",
    "factor = ()\n",
    "\n",
    "for i in range (3,3+K):\n",
    "    init_speed = (*init_speed, int(data[i][1]))\n",
    "    data_size = (*data_size, int(data[i][2]))\n",
    "    factor = (*factor, int(data[i][3]))\n",
    "print(factor)\n",
    "total_data = sum(list(data_size))\n",
    "data_remaining = list(data_size)"
   ]
  },
  {
   "cell_type": "code",
   "execution_count": 301,
   "metadata": {},
   "outputs": [],
   "source": [
    "with open('speed_to_data_map.csv', newline='') as mapping:\n",
    "    speed_map = tuple(csv.reader(mapping))\n",
    "    \n",
    "speed_data_map = []\n",
    "for i in range (0,len(speed_map)):\n",
    "    speed_data_map = (*speed_data_map, int(speed_map[i][1]))\n"
   ]
  },
  {
   "cell_type": "code",
   "execution_count": 302,
   "metadata": {},
   "outputs": [],
   "source": [
    "def size_index(data):\n",
    "    index_map = []\n",
    "    for i in range (0,K):\n",
    "        max_index = data.index(max(data))\n",
    "        index_map.append(max_index)\n",
    "        data[max_index] = -1\n",
    "    return index_map"
   ]
  },
  {
   "cell_type": "code",
   "execution_count": 303,
   "metadata": {},
   "outputs": [],
   "source": [
    "def target_factor(index_map,users,flag):\n",
    "    sent_data = 0\n",
    "    collocated_factor_list = [0]*M\n",
    "    for i in range (0,users):\n",
    "        collocated_factor_list[i] = factor[index_map[i]-1]/100\n",
    "    \n",
    "    for i in range (0,users):\n",
    "        collocated_factor = collocated_factor_list[i] * sum((collocated_factor_list[:i]+collocated_factor_list[i+1:]))\n",
    "        speed = init_speed[index_map[i]-1] * (1-collocated_factor)\n",
    "        speed = math.floor(speed + 10e-6)\n",
    "        sent_data = sent_data + speed_data_map[speed]\n",
    "        if flag == 1:\n",
    "            data_remaining[index_map[i]-1] = data_remaining[index_map[i]-1] - speed_data_map[speed]\n",
    "            if (data_remaining[index_map[i]-1] < 0):\n",
    "                data_remaining[index_map[i]-1] = 0\n",
    "\n",
    "    target_current = (math.floor((sent_data/total_data)*100))\n",
    "    return target_current"
   ]
  },
  {
   "cell_type": "code",
   "execution_count": 304,
   "metadata": {},
   "outputs": [
    {
     "name": "stdout",
     "output_type": "stream",
     "text": [
      "[4000, 8000, 8200, 18000]\n",
      "[4000, 8000, 3083, 13959]\n",
      "[4000, 4497, 3083, 9111]\n",
      "[4000, 994, 3083, 4263]\n",
      "[0, 994, 3083, 0]\n",
      "[0, 0, 0, 0]\n"
     ]
    }
   ],
   "source": [
    "target_ideal = 100/N\n",
    "user_index_map_d = [0]*M\n",
    "user_index_map_q = [0]*M\n",
    "print(data_remaining)\n",
    "for i in range (0,N):       #Columns\n",
    "    data_temp = data_remaining.copy()\n",
    "    size_index_map = size_index(data_temp)         #shows the index of largest and the subsequent largest data_size \n",
    "    margin = 100\n",
    "    for j in range (0,M):\n",
    "        user_index_map_d[j] = size_index_map[j]+1       \n",
    "        target_curr = target_factor(user_index_map_d,j+1,0)\n",
    "        if abs(target_curr-target_ideal) > margin:\n",
    "            target_factor(user_index_map_q,j,1)\n",
    "            break\n",
    "        else:\n",
    "            user_index_map_q = user_index_map_d.copy()\n",
    "            margin = abs(target_curr-target_ideal)\n",
    "    print(data_remaining)\n",
    "\n",
    "\n",
    "            \n",
    "\n",
    "        "
   ]
  }
 ],
 "metadata": {
  "kernelspec": {
   "display_name": "Python 3.10.5 64-bit",
   "language": "python",
   "name": "python3"
  },
  "language_info": {
   "codemirror_mode": {
    "name": "ipython",
    "version": 3
   },
   "file_extension": ".py",
   "mimetype": "text/x-python",
   "name": "python",
   "nbconvert_exporter": "python",
   "pygments_lexer": "ipython3",
   "version": "3.10.5"
  },
  "orig_nbformat": 4,
  "vscode": {
   "interpreter": {
    "hash": "ec83213aa7c28312cf8383557463965c328267b12d1c7603ce784525139666f2"
   }
  }
 },
 "nbformat": 4,
 "nbformat_minor": 2
}
