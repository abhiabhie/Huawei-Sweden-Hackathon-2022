{
 "cells": [
  {
   "cell_type": "code",
   "execution_count": 347,
   "metadata": {},
   "outputs": [],
   "source": [
    "#Read Input & Assign Variables\n",
    "import time\n",
    "import csv\n",
    "import math\n",
    "with open('speed_to_data_map.csv', newline='') as mapping:\n",
    "    speed_map = tuple(csv.reader(mapping))\n",
    "    \n",
    "speed_data_map = []\n",
    "for i in range (0,len(speed_map)):\n",
    "    speed_data_map = (*speed_data_map, int(speed_map[i][1]))\n"
   ]
  },
  {
   "cell_type": "code",
   "execution_count": 348,
   "metadata": {},
   "outputs": [],
   "source": [
    "def size_index(data,K):\n",
    "    index_map = []\n",
    "    for i in range (0,K):\n",
    "        max_index = data.index(max(data))\n",
    "        index_map.append(max_index)\n",
    "        data[max_index] = -1\n",
    "    return index_map"
   ]
  },
  {
   "cell_type": "code",
   "execution_count": 349,
   "metadata": {},
   "outputs": [],
   "source": [
    "def target_factor(M,init_speed,factor,total_data,index_map,users,flag,avg_speed,instance,data_remaining):\n",
    "    sent_data = 0\n",
    "    collocated_factor_list = [0]*M\n",
    "    for i in range (0,users):\n",
    "        collocated_factor_list[i] = factor[index_map[i]]/100\n",
    "    \n",
    "    for i in range (0,users):\n",
    "        collocated_factor = collocated_factor_list[i] * sum((collocated_factor_list[:i]+collocated_factor_list[i+1:]))\n",
    "        speed = init_speed[index_map[i]] * (1-collocated_factor)\n",
    "        speed_floor = math.floor(speed + 10e-6)\n",
    "        sent_data = sent_data + speed_data_map[speed_floor]\n",
    "        if flag == 1:\n",
    "            data_remaining[index_map[i]] = data_remaining[index_map[i]] - speed_data_map[speed_floor]\n",
    "            if (data_remaining[index_map[i]] < 0):\n",
    "                data_remaining[index_map[i]] = 0\n",
    "            avg_speed[index_map[i]] = ((avg_speed[index_map[i]])*instance[index_map[i]] + speed)/(instance[index_map[i]]+1)\n",
    "            instance[index_map[i]] = instance[index_map[i]] + 1\n",
    "\n",
    "    target_curr = (math.floor((sent_data/total_data)*100))\n",
    "    return target_curr\n"
   ]
  },
  {
   "cell_type": "code",
   "execution_count": 350,
   "metadata": {},
   "outputs": [],
   "source": [
    "def write(grid,avg_speed,data_loss,total_data,alpha,start_time):\n",
    "    print(grid)\n",
    "    print(\"Avg_speed_write: \", avg_speed)\n",
    "    print(data_loss)\n",
    "    execution_time = time.time() - start_time\n",
    "    print(execution_time)"
   ]
  },
  {
   "cell_type": "code",
   "execution_count": 351,
   "metadata": {},
   "outputs": [],
   "source": [
    "def main():\n",
    "    start_time = time.time()\n",
    "    with open('toy_testcase.csv', newline='') as input:\n",
    "        data = tuple(csv.reader(input))\n",
    "\n",
    "    M = int(data[0][0])\n",
    "    N = int(data[0][1])\n",
    "    K = int(data[1][0])\n",
    "    alpha = int(data[2][0])\n",
    "\n",
    "    init_speed = ()\n",
    "    data_size = ()\n",
    "    factor = ()\n",
    "\n",
    "    for i in range (3,3+K):\n",
    "        init_speed = (*init_speed, int(data[i][1]))\n",
    "        data_size = (*data_size, int(data[i][2]))\n",
    "        factor = (*factor, int(data[i][3]))\n",
    "    total_data = sum(list(data_size))\n",
    "    data_remaining = list(data_size)\n",
    "\n",
    "    grid = [[0]*M]*N\n",
    "    avg_speed = [0]*K\n",
    "    instance = [0]*K\n",
    "    data_loss = [0]*K\n",
    "    \n",
    "    target_ideal = 100/N\n",
    "    for i in range (0,N):       #Columns \n",
    "        user_index_map = [0]*M\n",
    "        index_map_temp = [0]*M\n",
    "        data_temp = data_remaining.copy()\n",
    "        size_index_map = size_index(data_temp,K)         #shows the index of largest and the subsequent largest data_size \n",
    "        margin = 100\n",
    "        for j in range (0,M):\n",
    "            index_map_temp[j] = size_index_map[j]  \n",
    "            target_curr = target_factor(M,init_speed,factor,total_data,index_map_temp,j+1,0,avg_speed,instance,data_remaining)\n",
    "            if abs(target_curr-target_ideal) > margin:\n",
    "                target_factor(M,init_speed,factor,total_data,user_index_map,j,1,avg_speed,instance,data_remaining)\n",
    "                grid[i] = user_index_map.copy()\n",
    "                break\n",
    "            else:\n",
    "                margin = abs(target_curr - target_ideal)\n",
    "                user_index_map = index_map_temp.copy()\n",
    "        \n",
    "    data_loss = data_remaining.copy()\n",
    "    write(grid,avg_speed,data_loss,total_data,alpha,start_time)"
   ]
  },
  {
   "cell_type": "code",
   "execution_count": 352,
   "metadata": {},
   "outputs": [
    {
     "name": "stdout",
     "output_type": "stream",
     "text": [
      "[[1, 0, 3, 0, 0, 0, 0, 0, 0, 0, 0, 0, 0, 0, 0, 0], [1, 0, 31, 0, 0, 0, 0, 0, 0, 0, 0, 0, 0, 0, 0, 0], [1, 0, 71, 0, 0, 0, 0, 0, 0, 0, 0, 0, 0, 0, 0, 0], [1, 0, 28, 0, 0, 0, 0, 0, 0, 0, 0, 0, 0, 0, 0, 0], [1, 0, 65, 0, 0, 0, 0, 0, 0, 0, 0, 0, 0, 0, 0, 0], [1, 0, 59, 0, 0, 0, 0, 0, 0, 0, 0, 0, 0, 0, 0, 0], [1, 0, 51, 0, 0, 0, 0, 0, 0, 0, 0, 0, 0, 0, 0, 0], [1, 0, 63, 0, 0, 0, 0, 0, 0, 0, 0, 0, 0, 0, 0, 0], [1, 0, 58, 16, 0, 0, 0, 0, 0, 0, 0, 0, 0, 0, 0, 0], [1, 0, 19, 0, 0, 0, 0, 0, 0, 0, 0, 0, 0, 0, 0, 0], [1, 0, 8, 0, 0, 0, 0, 0, 0, 0, 0, 0, 0, 0, 0, 0], [1, 0, 53, 0, 0, 0, 0, 0, 0, 0, 0, 0, 0, 0, 0, 0], [1, 0, 46, 49, 0, 0, 0, 0, 0, 0, 0, 0, 0, 0, 0, 0], [1, 0, 12, 0, 0, 0, 0, 0, 0, 0, 0, 0, 0, 0, 0, 0], [1, 0, 6, 0, 0, 0, 0, 0, 0, 0, 0, 0, 0, 0, 0, 0], [1, 0, 25, 70, 0, 0, 0, 0, 0, 0, 0, 0, 0, 0, 0, 0], [1, 0, 69, 0, 0, 0, 0, 0, 0, 0, 0, 0, 0, 0, 0, 0], [1, 0, 27, 33, 55, 0, 0, 0, 0, 0, 0, 0, 0, 0, 0, 0], [1, 0, 44, 0, 0, 0, 0, 0, 0, 0, 0, 0, 0, 0, 0, 0], [1, 0, 18, 0, 0, 0, 0, 0, 0, 0, 0, 0, 0, 0, 0, 0], [1, 0, 74, 0, 0, 0, 0, 0, 0, 0, 0, 0, 0, 0, 0, 0], [1, 0, 24, 0, 0, 0, 0, 0, 0, 0, 0, 0, 0, 0, 0, 0], [1, 0, 20, 0, 0, 0, 0, 0, 0, 0, 0, 0, 0, 0, 0, 0], [52, 0, 0, 0, 0, 0, 0, 0, 0, 0, 0, 0, 0, 0, 0, 0], [78, 0, 0, 0, 0, 0, 0, 0, 0, 0, 0, 0, 0, 0, 0, 0]]\n",
      "Avg_speed_write:  [4.716434782608696, 4.716434782608696, 0, 21.3136, 0, 0, 22.790399999999998, 0, 22.7328, 0, 0, 0, 19.9936, 0, 0, 0, 15.1542, 0, 23.74, 22.6, 17.0064, 0, 0, 0, 16.5512, 13.4096, 0, 8.928, 22.848, 0, 0, 23.0208, 0, 7.932600000000002, 0, 0, 0, 0, 0, 0, 0, 0, 0, 0, 15.5392, 0, 13.824, 0, 0, 16.9344, 0, 22.0064, 26.0, 23.74, 0, 9.348000000000003, 0, 0, 13.623999999999999, 17.136, 0, 0, 0, 21.344, 0, 21.2336, 0, 0, 0, 23.628800000000002, 16.736, 21.638399999999997, 0, 0, 17.130399999999998, 0, 0, 0, 26.0, 0]\n",
      "[1114, 1358, 1504, 0, 252, 525, 0, 1630, 0, 741, 1108, 1310, 0, 1705, 540, 450, 0, 213, 0, 0, 0, 1656, 253, 1680, 0, 0, 1406, 0, 0, 540, 1317, 0, 994, 251, 1630, 212, 640, 1347, 259, 442, 1560, 229, 542, 652, 0, 352, 0, 254, 956, 0, 457, 0, 0, 0, 245, 0, 1573, 1016, 0, 0, 1197, 1133, 418, 0, 222, 0, 459, 212, 945, 0, 0, 0, 245, 1506, 0, 1550, 1040, 542, 0, 1582]\n",
      "0.010973691940307617\n"
     ]
    }
   ],
   "source": [
    "if __name__ == '__main__':\n",
    "    main()\n",
    "    \n"
   ]
  }
 ],
 "metadata": {
  "kernelspec": {
   "display_name": "Python 3.10.5 64-bit",
   "language": "python",
   "name": "python3"
  },
  "language_info": {
   "codemirror_mode": {
    "name": "ipython",
    "version": 3
   },
   "file_extension": ".py",
   "mimetype": "text/x-python",
   "name": "python",
   "nbconvert_exporter": "python",
   "pygments_lexer": "ipython3",
   "version": "3.10.5"
  },
  "orig_nbformat": 4,
  "vscode": {
   "interpreter": {
    "hash": "ec83213aa7c28312cf8383557463965c328267b12d1c7603ce784525139666f2"
   }
  }
 },
 "nbformat": 4,
 "nbformat_minor": 2
}
