{
 "cells": [
  {
   "cell_type": "code",
   "execution_count": 51,
   "metadata": {},
   "outputs": [],
   "source": [
    "#Read Input & Assign Variables\n",
    "import csv\n",
    "with open('toy_testcase.csv', newline='') as input:\n",
    "    data = tuple(csv.reader(input))\n",
    "\n",
    "M = int(data[0][0])\n",
    "N = int(data[0][1])\n",
    "K = int(data[1][0])\n",
    "alpha = int(data[2][0])\n",
    "\n",
    "init_speed = ()\n",
    "data_size = ()\n",
    "factor = ()\n",
    "\n",
    "for i in range (3,3+K):\n",
    "    init_speed = (*init_speed, int(data[i][1]))\n",
    "    data_size = (*data_size, int(data[i][2]))\n",
    "    factor = (*factor, int(data[i][3]))\n"
   ]
  },
  {
   "cell_type": "code",
   "execution_count": 49,
   "metadata": {},
   "outputs": [
    {
     "name": "stdout",
     "output_type": "stream",
     "text": [
      "(['0', '0'], ['1', '290'], ['2', '575'], ['3', '813'], ['4', '1082'], ['5', '1351'], ['6', '1620'], ['7', '1889'], ['8', '2158'], ['9', '2427'], ['10', '2696'], ['11', '2965'], ['12', '3234'], ['13', '3503'], ['14', '3772'], ['15', '4041'], ['16', '4310'], ['17', '4579'], ['18', '4848'], ['19', '5117'], ['20', '5386'], ['21', '5655'], ['22', '5924'], ['23', '6093'], ['24', '6360'], ['25', '6611'], ['26', '6800'])\n",
      "(0, 290, 575, 813, 1082, 1351, 1620, 1889, 2158, 2427, 2696, 2965, 3234, 3503, 3772, 4041, 4310, 4579, 4848, 5117, 5386, 5655, 5924, 6093, 6360, 6611, 6800)\n"
     ]
    }
   ],
   "source": [
    "with open('speed_to_data_map.csv', newline='') as mapping:\n",
    "    speed_map = tuple(csv.reader(mapping))\n",
    "    \n",
    "speed = []\n",
    "for i in range (0,len(speed_map)):\n",
    "    speed = (*speed, int(speed_map[i][1]))\n"
   ]
  },
  {
   "cell_type": "code",
   "execution_count": 58,
   "metadata": {},
   "outputs": [
    {
     "name": "stdout",
     "output_type": "stream",
     "text": [
      "[4, 0, 0]\n",
      "[4, 4, 0]\n",
      "[4, 4, 4]\n",
      "[4, 4, 4]\n",
      "[4, 4, 4]\n",
      "[4, 4, 4]\n",
      "[4, 4, 4]\n",
      "[4, 4, 4]\n",
      "[4, 4, 4]\n",
      "[4, 4, 4]\n",
      "[4, 4, 4]\n",
      "[4, 4, 4]\n",
      "[4, 4, 4]\n",
      "[4, 4, 4]\n",
      "[4, 4, 4]\n"
     ]
    }
   ],
   "source": [
    "data_remaining = list(data_size)\n",
    "target_ideal = 100/N\n",
    "grid_map_vertical = [0]*M\n",
    "\n",
    "for i in range (0,N):       #Columns\n",
    "    for j in range (0,M):\n",
    "        user_index = data_remaining.index(max(data_remaining))\n",
    "        grid_map_vertical[j] = user_index+1\n",
    "        target_curr = target_factor(grid_map_vertical)  "
   ]
  }
 ],
 "metadata": {
  "kernelspec": {
   "display_name": "Python 3.10.5 64-bit",
   "language": "python",
   "name": "python3"
  },
  "language_info": {
   "codemirror_mode": {
    "name": "ipython",
    "version": 3
   },
   "file_extension": ".py",
   "mimetype": "text/x-python",
   "name": "python",
   "nbconvert_exporter": "python",
   "pygments_lexer": "ipython3",
   "version": "3.10.5"
  },
  "orig_nbformat": 4,
  "vscode": {
   "interpreter": {
    "hash": "ec83213aa7c28312cf8383557463965c328267b12d1c7603ce784525139666f2"
   }
  }
 },
 "nbformat": 4,
 "nbformat_minor": 2
}
