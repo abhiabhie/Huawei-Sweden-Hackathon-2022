{
 "cells": [
  {
   "cell_type": "code",
   "execution_count": 423,
   "metadata": {},
   "outputs": [],
   "source": [
    "#Read Input & Assign Variables\n",
    "import time\n",
    "import csv\n",
    "import math\n",
    "with open('speed_to_data_map.csv', newline='') as mapping:\n",
    "    speed_map = tuple(csv.reader(mapping))\n",
    "    \n",
    "speed_data_map = []\n",
    "for i in range (0,len(speed_map)):\n",
    "    speed_data_map = (*speed_data_map, int(speed_map[i][1]))\n"
   ]
  },
  {
   "cell_type": "code",
   "execution_count": 424,
   "metadata": {},
   "outputs": [],
   "source": [
    "def size_index(data,K):\n",
    "    index_map = []\n",
    "    for i in range (0,K):\n",
    "        max_index = data.index(max(data))\n",
    "        index_map.append(max_index)\n",
    "        data[max_index] = -1\n",
    "    return index_map"
   ]
  },
  {
   "cell_type": "code",
   "execution_count": 425,
   "metadata": {},
   "outputs": [],
   "source": [
    "def target_factor(M,init_speed,factor,total_data,index_map,users,flag,avg_speed,instance,data_remaining):\n",
    "    sent_data = 0\n",
    "    collocated_factor_list = [0]*M\n",
    "    for i in range (0,users):\n",
    "        collocated_factor_list[i] = factor[index_map[i]]/100\n",
    "    \n",
    "    for i in range (0,users):\n",
    "        collocated_factor = collocated_factor_list[i] * sum((collocated_factor_list[:i]+collocated_factor_list[i+1:]))\n",
    "        speed = init_speed[index_map[i]] * (1-collocated_factor)\n",
    "        speed_floor = math.floor(speed + 10e-6)\n",
    "        sent_data = sent_data + speed_data_map[speed_floor]\n",
    "        if flag == 1:\n",
    "            data_remaining[index_map[i]] = data_remaining[index_map[i]] - speed_data_map[speed_floor]\n",
    "            if (data_remaining[index_map[i]] < 0):\n",
    "                data_remaining[index_map[i]] = 0\n",
    "            avg_speed[index_map[i]] = ((avg_speed[index_map[i]])*instance[index_map[i]] + speed)/(instance[index_map[i]]+1)\n",
    "            instance[index_map[i]] = instance[index_map[i]] + 1\n",
    "\n",
    "    target_curr = (math.floor((sent_data/total_data)*100))\n",
    "    return target_curr\n"
   ]
  },
  {
   "cell_type": "code",
   "execution_count": 426,
   "metadata": {},
   "outputs": [],
   "source": [
    "def write(M,N,grid,avg_speed,data_loss,total_data,alpha,start_time):\n",
    "    print(grid)\n",
    "    execution_time = time.time() - start_time\n",
    "    print(execution_time)\n",
    "    with open('example.csv', 'w') as file:\n",
    "        writer = csv.writer(file)\n",
    "    \n",
    "   # writer.writerows(grid)\n",
    "    \n",
    "    # for i in range (0,M):\n",
    "    #     write_data = []\n",
    "    #     for j in range (0,N):\n",
    "            \n",
    "            "
   ]
  },
  {
   "cell_type": "code",
   "execution_count": 427,
   "metadata": {},
   "outputs": [],
   "source": [
    "def main():\n",
    "    start_time = time.time()\n",
    "    with open('toy_testcase.csv', newline='') as input:\n",
    "        data = tuple(csv.reader(input))\n",
    "\n",
    "    M = int(data[0][0])\n",
    "    N = int(data[0][1])\n",
    "    K = int(data[1][0])\n",
    "    alpha = int(data[2][0])\n",
    "\n",
    "    init_speed = ()\n",
    "    data_size = ()\n",
    "    factor = ()\n",
    "\n",
    "    for i in range (3,3+K):\n",
    "        init_speed = (*init_speed, int(data[i][1]))\n",
    "        data_size = (*data_size, int(data[i][2]))\n",
    "        factor = (*factor, int(data[i][3]))\n",
    "    total_data = sum(list(data_size))\n",
    "    data_remaining = list(data_size)\n",
    "\n",
    "    grid = [[0]*M]*N\n",
    "    avg_speed = [0]*K\n",
    "    instance = [0]*K\n",
    "    data_loss = [0]*K\n",
    "    \n",
    "    target_ideal = 100/N\n",
    "    for i in range (0,N):       #Columns \n",
    "        user_index_map = [0]*M\n",
    "        index_map_temp = [0]*M\n",
    "        data_temp = data_remaining.copy()\n",
    "        size_index_map = size_index(data_temp,K)         #shows the index of largest and the subsequent largest data_size \n",
    "        margin = 100\n",
    "        for j in range (0,M):\n",
    "            index_map_temp[j] = size_index_map[j]  \n",
    "            target_curr = target_factor(M,init_speed,factor,total_data,index_map_temp,j+1,0,avg_speed,instance,data_remaining)\n",
    "            if abs(target_curr-target_ideal) > margin:\n",
    "                target_factor(M,init_speed,factor,total_data,user_index_map,j,1,avg_speed,instance,data_remaining)\n",
    "                grid[i] = user_index_map.copy()\n",
    "                break\n",
    "            else:\n",
    "                margin = abs(target_curr - target_ideal)\n",
    "                user_index_map = index_map_temp.copy()\n",
    "        \n",
    "    data_loss = data_remaining.copy()\n",
    "    write(M,N,grid,avg_speed,data_loss,total_data,alpha,start_time)"
   ]
  },
  {
   "cell_type": "code",
   "execution_count": 428,
   "metadata": {},
   "outputs": [
    {
     "name": "stdout",
     "output_type": "stream",
     "text": [
      "[[3, 2, 0], [3, 1, 0], [3, 1, 0], [3, 0, 0], [2, 1, 0]]\n",
      "0.0009958744049072266\n"
     ]
    }
   ],
   "source": [
    "if __name__ == '__main__':\n",
    "    main()\n",
    "    \n"
   ]
  }
 ],
 "metadata": {
  "kernelspec": {
   "display_name": "Python 3.10.5 64-bit",
   "language": "python",
   "name": "python3"
  },
  "language_info": {
   "codemirror_mode": {
    "name": "ipython",
    "version": 3
   },
   "file_extension": ".py",
   "mimetype": "text/x-python",
   "name": "python",
   "nbconvert_exporter": "python",
   "pygments_lexer": "ipython3",
   "version": "3.10.5"
  },
  "orig_nbformat": 4,
  "vscode": {
   "interpreter": {
    "hash": "ec83213aa7c28312cf8383557463965c328267b12d1c7603ce784525139666f2"
   }
  }
 },
 "nbformat": 4,
 "nbformat_minor": 2
}
